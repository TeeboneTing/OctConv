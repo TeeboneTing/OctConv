{
 "cells": [
  {
   "cell_type": "code",
   "execution_count": 1,
   "metadata": {},
   "outputs": [],
   "source": [
    "import tensorflow as tf\n",
    "import numpy as np"
   ]
  },
  {
   "cell_type": "code",
   "execution_count": 2,
   "metadata": {},
   "outputs": [],
   "source": [
    "# load dataset for POC use\n",
    "import tensorflow.keras.datasets as keras_datasets\n",
    "(x_train, y_train), (x_test, y_test) = keras_datasets.cifar10.load_data()"
   ]
  },
  {
   "cell_type": "code",
   "execution_count": 3,
   "metadata": {},
   "outputs": [],
   "source": [
    "# Normalize data\n",
    "x_train = (x_train.astype(np.float32) - 127.5) / 127.5\n",
    "\n",
    "# Normalize data\n",
    "x_test = (x_test.astype(np.float32) - 127.5) / 127.5"
   ]
  },
  {
   "cell_type": "code",
   "execution_count": 4,
   "metadata": {},
   "outputs": [],
   "source": [
    "from tensorflow.keras.utils import to_categorical\n",
    "y_train_one_hot = to_categorical(y_train)"
   ]
  },
  {
   "cell_type": "code",
   "execution_count": 5,
   "metadata": {},
   "outputs": [],
   "source": [
    "# Build a simple CNN network\n",
    "from tensorflow.keras.layers import Input, Dense, concatenate, Reshape, Flatten, Conv2D, MaxPool2D, Dropout\n",
    "from tensorflow.keras.models import Model\n",
    "from tensorflow.keras.optimizers import Adam, SGD"
   ]
  },
  {
   "cell_type": "code",
   "execution_count": 6,
   "metadata": {},
   "outputs": [],
   "source": [
    "def build_cnn_net(input_layer):\n",
    "    x = Conv2D(32,(3,3),padding=\"same\",activation='relu')(input_layer)\n",
    "    x = Conv2D(32,(3,3),padding=\"same\",activation='relu')(x)\n",
    "    x = Conv2D(16,(5,5),padding=\"same\",activation='relu')(x)\n",
    "    x = MaxPool2D()(x)\n",
    "    x = Dropout(0.5)(x)\n",
    "    x = Flatten()(x)\n",
    "    x = Dense(64)(x)\n",
    "    x = Dense(32)(x)\n",
    "    x = Dense(10,activation='softmax')(x)\n",
    "    \n",
    "    model = Model(input_layer, x)\n",
    "    return model\n",
    "\n",
    "input_layer = Input(shape=(32,32,3))\n",
    "cnn_net = build_cnn_net(input_layer)"
   ]
  },
  {
   "cell_type": "code",
   "execution_count": 7,
   "metadata": {},
   "outputs": [
    {
     "name": "stdout",
     "output_type": "stream",
     "text": [
      "_________________________________________________________________\n",
      "Layer (type)                 Output Shape              Param #   \n",
      "=================================================================\n",
      "input_1 (InputLayer)         (None, 32, 32, 3)         0         \n",
      "_________________________________________________________________\n",
      "conv2d (Conv2D)              (None, 32, 32, 32)        896       \n",
      "_________________________________________________________________\n",
      "conv2d_1 (Conv2D)            (None, 32, 32, 32)        9248      \n",
      "_________________________________________________________________\n",
      "conv2d_2 (Conv2D)            (None, 32, 32, 16)        12816     \n",
      "_________________________________________________________________\n",
      "max_pooling2d (MaxPooling2D) (None, 16, 16, 16)        0         \n",
      "_________________________________________________________________\n",
      "dropout (Dropout)            (None, 16, 16, 16)        0         \n",
      "_________________________________________________________________\n",
      "flatten (Flatten)            (None, 4096)              0         \n",
      "_________________________________________________________________\n",
      "dense (Dense)                (None, 64)                262208    \n",
      "_________________________________________________________________\n",
      "dense_1 (Dense)              (None, 32)                2080      \n",
      "_________________________________________________________________\n",
      "dense_2 (Dense)              (None, 10)                330       \n",
      "=================================================================\n",
      "Total params: 287,578\n",
      "Trainable params: 287,578\n",
      "Non-trainable params: 0\n",
      "_________________________________________________________________\n"
     ]
    }
   ],
   "source": [
    "cnn_net.summary()"
   ]
  },
  {
   "cell_type": "code",
   "execution_count": 8,
   "metadata": {},
   "outputs": [],
   "source": [
    "adam = Adam()\n",
    "cnn_net.compile(optimizer=adam, loss='binary_crossentropy', metrics=['accuracy'])"
   ]
  },
  {
   "cell_type": "code",
   "execution_count": 9,
   "metadata": {},
   "outputs": [
    {
     "name": "stdout",
     "output_type": "stream",
     "text": [
      "Epoch 1/10\n",
      "50000/50000 [==============================] - 19s 375us/step - loss: 0.2162 - acc: 0.9165\n",
      "Epoch 2/10\n",
      "50000/50000 [==============================] - 12s 234us/step - loss: 0.1761 - acc: 0.9309\n",
      "Epoch 3/10\n",
      "50000/50000 [==============================] - 11s 224us/step - loss: 0.1625 - acc: 0.9362\n",
      "Epoch 4/10\n",
      "50000/50000 [==============================] - 11s 225us/step - loss: 0.1545 - acc: 0.9398\n",
      "Epoch 5/10\n",
      "50000/50000 [==============================] - 11s 225us/step - loss: 0.1482 - acc: 0.9423\n",
      "Epoch 6/10\n",
      "50000/50000 [==============================] - 11s 225us/step - loss: 0.1432 - acc: 0.9442\n",
      "Epoch 7/10\n",
      "50000/50000 [==============================] - 11s 225us/step - loss: 0.1395 - acc: 0.9455\n",
      "Epoch 8/10\n",
      "50000/50000 [==============================] - 11s 225us/step - loss: 0.1365 - acc: 0.9468\n",
      "Epoch 9/10\n",
      "50000/50000 [==============================] - 11s 226us/step - loss: 0.1333 - acc: 0.9481\n",
      "Epoch 10/10\n",
      "50000/50000 [==============================] - 11s 225us/step - loss: 0.1312 - acc: 0.9489\n"
     ]
    },
    {
     "data": {
      "text/plain": [
       "<tensorflow.python.keras.callbacks.History at 0x7f8722f007b8>"
      ]
     },
     "execution_count": 9,
     "metadata": {},
     "output_type": "execute_result"
    }
   ],
   "source": [
    "# Train cnn_net\n",
    "cnn_net.fit(x_train,y_train_one_hot,batch_size=16, epochs=10)"
   ]
  },
  {
   "cell_type": "code",
   "execution_count": 10,
   "metadata": {},
   "outputs": [
    {
     "name": "stdout",
     "output_type": "stream",
     "text": [
      "10000/10000 [==============================] - 1s 63us/step\n"
     ]
    },
    {
     "data": {
      "text/plain": [
       "array([[6.28269452e-04, 2.08878727e-03, 2.57510990e-02, ...,\n",
       "        2.99948198e-03, 1.37310512e-02, 8.53412971e-03],\n",
       "       [6.60155376e-04, 1.04502228e-03, 1.98956194e-08, ...,\n",
       "        2.16774793e-10, 9.98293340e-01, 1.43494924e-06],\n",
       "       [2.08394587e-01, 2.24277694e-02, 2.24941806e-03, ...,\n",
       "        3.56814521e-03, 7.49892652e-01, 3.72021133e-03],\n",
       "       ...,\n",
       "       [5.48005846e-05, 8.11557754e-07, 1.26295656e-01, ...,\n",
       "        7.37364888e-02, 2.46558309e-04, 3.06942020e-05],\n",
       "       [1.51137486e-01, 9.02958959e-02, 1.41273551e-02, ...,\n",
       "        1.18349746e-01, 1.16925105e-04, 3.90517563e-02],\n",
       "       [1.72252821e-05, 2.99805879e-06, 5.53817023e-04, ...,\n",
       "        6.61922932e-01, 3.68216865e-06, 1.30401440e-06]], dtype=float32)"
      ]
     },
     "execution_count": 10,
     "metadata": {},
     "output_type": "execute_result"
    }
   ],
   "source": [
    "cnn_net.predict(x_test,verbose=1)"
   ]
  },
  {
   "cell_type": "code",
   "execution_count": 11,
   "metadata": {},
   "outputs": [],
   "source": [
    "import tensorflow.keras.backend as K\n",
    "K.clear_session()"
   ]
  },
  {
   "cell_type": "code",
   "execution_count": 12,
   "metadata": {},
   "outputs": [],
   "source": [
    "# Try OctConv\n",
    "import sys\n",
    "sys.path.append(\"OctConv-TFKeras\")\n",
    "from oct_conv2d import OctConv2D\n",
    "# Build a simple CNN network\n",
    "from tensorflow.keras import layers\n",
    "from tensorflow.keras.models import Model\n",
    "from tensorflow.keras.optimizers import Adam, SGD\n"
   ]
  },
  {
   "cell_type": "code",
   "execution_count": 13,
   "metadata": {},
   "outputs": [],
   "source": [
    "# Input\n",
    "input_high = layers.Input((32,32,3))\n",
    "# downsampling for lower\n",
    "input_low = layers.AveragePooling2D(2)(input_high)"
   ]
  },
  {
   "cell_type": "code",
   "execution_count": 14,
   "metadata": {},
   "outputs": [],
   "source": [
    "def build_octconv_net(inputs,alpha):\n",
    "    high, low = inputs\n",
    "    \n",
    "    # First OctConv\n",
    "    high, low = OctConv2D(filters=32, kernel_size = (3,3),alpha=alpha)([high, low])\n",
    "    #high = layers.BatchNormalization()(high)\n",
    "    high = layers.Activation(\"relu\")(high)\n",
    "    #low = layers.BatchNormalization()(low)\n",
    "    low = layers.Activation(\"relu\")(low)\n",
    "    # Second OctConv\n",
    "    high, low = OctConv2D(filters=32, kernel_size = (3,3), alpha=alpha)([high, low])\n",
    "    #high = layers.BatchNormalization()(high)\n",
    "    high = layers.Activation(\"relu\")(high)\n",
    "    #low = layers.BatchNormalization()(low)\n",
    "    low = layers.Activation(\"relu\")(low)\n",
    "    # Third OctConv\n",
    "    #high, low = OctConv2D(filters=16, kernel_size = (5,5), alpha=alpha)([high, low])\n",
    "    ##high = layers.BatchNormalization()(high)\n",
    "    #high = layers.Activation(\"relu\")(high)\n",
    "    ##low = layers.BatchNormalization()(low)\n",
    "    #low = layers.Activation(\"relu\")(low)\n",
    "    \n",
    "    #import pdb; pdb.set_trace()\n",
    "    \n",
    "    # Last conv layers = alpha_out = 0 : vanila Conv2D\n",
    "    # high -> high\n",
    "    high_to_high = layers.Conv2D(16, (5,5), padding=\"same\")(high)\n",
    "    # low -> high\n",
    "    low_to_high = layers.Conv2D(16, (5,5), padding=\"same\")(low)\n",
    "    low_to_high = layers.Lambda(lambda x: \n",
    "                        K.repeat_elements(K.repeat_elements(x, 2, axis=1), 2, axis=2))(low_to_high)\n",
    "    x = layers.Add()([high_to_high, low_to_high])\n",
    "    #x = layers.BatchNormalization()(x)\n",
    "    x = layers.Activation(\"relu\")(x)\n",
    "    \n",
    "    # Dense layers\n",
    "    x = layers.MaxPool2D()(x)\n",
    "    x = layers.Dropout(0.5)(x)\n",
    "    x = layers.Flatten()(x)\n",
    "    x = layers.Dense(64)(x)\n",
    "    x = layers.Dense(32)(x)\n",
    "    x = layers.Dense(10,activation='softmax')(x)\n",
    "    \n",
    "    model = Model(input_high, x)\n",
    "    return model\n",
    "\n",
    "octconv_net = build_octconv_net((input_high,input_low),alpha=0.25)"
   ]
  },
  {
   "cell_type": "code",
   "execution_count": 15,
   "metadata": {},
   "outputs": [
    {
     "name": "stdout",
     "output_type": "stream",
     "text": [
      "__________________________________________________________________________________________________\n",
      "Layer (type)                    Output Shape         Param #     Connected to                     \n",
      "==================================================================================================\n",
      "input_1 (InputLayer)            (None, 32, 32, 3)    0                                            \n",
      "__________________________________________________________________________________________________\n",
      "average_pooling2d (AveragePooli (None, 16, 16, 3)    0           input_1[0][0]                    \n",
      "__________________________________________________________________________________________________\n",
      "oct_conv2d (OctConv2D)          [(None, 32, 32, 24), 1728        input_1[0][0]                    \n",
      "                                                                 average_pooling2d[0][0]          \n",
      "__________________________________________________________________________________________________\n",
      "activation (Activation)         (None, 32, 32, 24)   0           oct_conv2d[0][0]                 \n",
      "__________________________________________________________________________________________________\n",
      "activation_1 (Activation)       (None, 16, 16, 8)    0           oct_conv2d[0][1]                 \n",
      "__________________________________________________________________________________________________\n",
      "oct_conv2d_1 (OctConv2D)        [(None, 32, 32, 24), 9216        activation[0][0]                 \n",
      "                                                                 activation_1[0][0]               \n",
      "__________________________________________________________________________________________________\n",
      "activation_3 (Activation)       (None, 16, 16, 8)    0           oct_conv2d_1[0][1]               \n",
      "__________________________________________________________________________________________________\n",
      "activation_2 (Activation)       (None, 32, 32, 24)   0           oct_conv2d_1[0][0]               \n",
      "__________________________________________________________________________________________________\n",
      "conv2d_1 (Conv2D)               (None, 16, 16, 16)   3216        activation_3[0][0]               \n",
      "__________________________________________________________________________________________________\n",
      "conv2d (Conv2D)                 (None, 32, 32, 16)   9616        activation_2[0][0]               \n",
      "__________________________________________________________________________________________________\n",
      "lambda (Lambda)                 (None, 32, 32, 16)   0           conv2d_1[0][0]                   \n",
      "__________________________________________________________________________________________________\n",
      "add (Add)                       (None, 32, 32, 16)   0           conv2d[0][0]                     \n",
      "                                                                 lambda[0][0]                     \n",
      "__________________________________________________________________________________________________\n",
      "activation_4 (Activation)       (None, 32, 32, 16)   0           add[0][0]                        \n",
      "__________________________________________________________________________________________________\n",
      "max_pooling2d (MaxPooling2D)    (None, 16, 16, 16)   0           activation_4[0][0]               \n",
      "__________________________________________________________________________________________________\n",
      "dropout (Dropout)               (None, 16, 16, 16)   0           max_pooling2d[0][0]              \n",
      "__________________________________________________________________________________________________\n",
      "flatten (Flatten)               (None, 4096)         0           dropout[0][0]                    \n",
      "__________________________________________________________________________________________________\n",
      "dense (Dense)                   (None, 64)           262208      flatten[0][0]                    \n",
      "__________________________________________________________________________________________________\n",
      "dense_1 (Dense)                 (None, 32)           2080        dense[0][0]                      \n",
      "__________________________________________________________________________________________________\n",
      "dense_2 (Dense)                 (None, 10)           330         dense_1[0][0]                    \n",
      "==================================================================================================\n",
      "Total params: 288,394\n",
      "Trainable params: 288,394\n",
      "Non-trainable params: 0\n",
      "__________________________________________________________________________________________________\n"
     ]
    }
   ],
   "source": [
    "octconv_net.summary()"
   ]
  },
  {
   "cell_type": "code",
   "execution_count": 16,
   "metadata": {},
   "outputs": [],
   "source": [
    "adam = Adam()\n",
    "octconv_net.compile(optimizer=adam, loss='binary_crossentropy', metrics=['accuracy'])"
   ]
  },
  {
   "cell_type": "code",
   "execution_count": 17,
   "metadata": {},
   "outputs": [
    {
     "name": "stdout",
     "output_type": "stream",
     "text": [
      "Epoch 1/10\n",
      "50000/50000 [==============================] - 24s 472us/step - loss: 0.2226 - acc: 0.9145\n",
      "Epoch 2/10\n",
      "50000/50000 [==============================] - 21s 422us/step - loss: 0.1847 - acc: 0.9279\n",
      "Epoch 3/10\n",
      "50000/50000 [==============================] - 21s 419us/step - loss: 0.1693 - acc: 0.9337\n",
      "Epoch 4/10\n",
      "50000/50000 [==============================] - 23s 458us/step - loss: 0.1608 - acc: 0.9373\n",
      "Epoch 5/10\n",
      "50000/50000 [==============================] - 23s 458us/step - loss: 0.1549 - acc: 0.9397\n",
      "Epoch 6/10\n",
      "50000/50000 [==============================] - 24s 472us/step - loss: 0.1502 - acc: 0.9413\n",
      "Epoch 7/10\n",
      "50000/50000 [==============================] - 24s 472us/step - loss: 0.1455 - acc: 0.9434\n",
      "Epoch 8/10\n",
      "50000/50000 [==============================] - 24s 473us/step - loss: 0.1422 - acc: 0.9446\n",
      "Epoch 9/10\n",
      "50000/50000 [==============================] - 24s 474us/step - loss: 0.1399 - acc: 0.9454\n",
      "Epoch 10/10\n",
      "50000/50000 [==============================] - 24s 472us/step - loss: 0.1378 - acc: 0.9463\n"
     ]
    },
    {
     "data": {
      "text/plain": [
       "<tensorflow.python.keras.callbacks.History at 0x7f871c4d15f8>"
      ]
     },
     "execution_count": 17,
     "metadata": {},
     "output_type": "execute_result"
    }
   ],
   "source": [
    "# Train cnn_net\n",
    "octconv_net.fit(x_train,y_train_one_hot,batch_size=16, epochs=10)"
   ]
  },
  {
   "cell_type": "code",
   "execution_count": null,
   "metadata": {},
   "outputs": [],
   "source": [
    "# TODO: compare inference time "
   ]
  },
  {
   "cell_type": "code",
   "execution_count": 18,
   "metadata": {},
   "outputs": [
    {
     "name": "stdout",
     "output_type": "stream",
     "text": [
      "10000/10000 [==============================] - 1s 91us/step\n"
     ]
    },
    {
     "data": {
      "text/plain": [
       "array([[1.7167373e-02, 2.9758541e-03, 1.0084572e-02, ..., 1.1794337e-02,\n",
       "        6.5444387e-02, 1.1558613e-02],\n",
       "       [4.6043918e-03, 4.6025279e-01, 1.8103879e-06, ..., 4.9362184e-06,\n",
       "        5.3383464e-01, 1.2982762e-03],\n",
       "       [2.0329532e-01, 2.5951472e-01, 2.0407168e-02, ..., 3.0794030e-02,\n",
       "        3.9187068e-01, 7.4310154e-02],\n",
       "       ...,\n",
       "       [4.8434140e-05, 1.0514545e-06, 7.0177279e-02, ..., 6.4587295e-02,\n",
       "        2.4248928e-05, 4.6776124e-05],\n",
       "       [8.2446772e-01, 2.5925791e-02, 6.2572500e-03, ..., 3.9110673e-03,\n",
       "        2.7357860e-04, 3.5498635e-04],\n",
       "       [2.2097471e-05, 3.0165950e-07, 6.3765107e-04, ..., 7.0978320e-01,\n",
       "        9.5099557e-07, 4.0313314e-08]], dtype=float32)"
      ]
     },
     "execution_count": 18,
     "metadata": {},
     "output_type": "execute_result"
    }
   ],
   "source": [
    "octconv_net.predict(x_test,verbose=1)"
   ]
  },
  {
   "cell_type": "code",
   "execution_count": null,
   "metadata": {},
   "outputs": [],
   "source": []
  }
 ],
 "metadata": {
  "kernelspec": {
   "display_name": "Python 3",
   "language": "python",
   "name": "python3"
  },
  "language_info": {
   "codemirror_mode": {
    "name": "ipython",
    "version": 3
   },
   "file_extension": ".py",
   "mimetype": "text/x-python",
   "name": "python",
   "nbconvert_exporter": "python",
   "pygments_lexer": "ipython3",
   "version": "3.6.3"
  }
 },
 "nbformat": 4,
 "nbformat_minor": 2
}
